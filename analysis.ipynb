{
 "cells": [
  {
   "cell_type": "code",
   "execution_count": 1,
   "metadata": {
    "collapsed": true
   },
   "outputs": [],
   "source": [
    "import numpy as np\n",
    "import pandas as pd\n",
    "import matplotlib.pylab as plt\n",
    "\n",
    "from sklearn import metrics, preprocessing\n",
    "from sklearn.cross_validation import cross_val_score\n",
    "from sklearn.preprocessing import StandardScaler, MinMaxScaler\n",
    "\n",
    "from sklearn import svm\n",
    "from sklearn.tree import DecisionTreeClassifier\n",
    "from sklearn.linear_model import LogisticRegression\n",
    "from sklearn.ensemble import RandomForestClassifier, AdaBoostClassifier, GradientBoostingClassifier\n",
    "from sklearn.neighbors import KNeighborsClassifier\n",
    "\n",
    "%matplotlib inline"
   ]
  },
  {
   "cell_type": "markdown",
   "metadata": {},
   "source": [
    "# Load dataset for training purposes from CSV"
   ]
  },
  {
   "cell_type": "code",
   "execution_count": 2,
   "metadata": {
    "collapsed": true
   },
   "outputs": [],
   "source": [
    "train_df = pd.read_csv('./data/orders_train.txt', sep=';', low_memory=False, \n",
    "                       parse_dates=['orderDate', 'deliveryDate', 'dateOfBirth', 'creationDate'], \n",
    "                       infer_datetime_format=True)"
   ]
  },
  {
   "cell_type": "markdown",
   "metadata": {},
   "source": [
    "# Load dataset for classification from CSV"
   ]
  },
  {
   "cell_type": "code",
   "execution_count": 3,
   "metadata": {
    "collapsed": true
   },
   "outputs": [],
   "source": [
    "test_df = pd.read_csv('./data/orders_class.txt', sep=';', low_memory=False, \n",
    "                      parse_dates=['orderDate', 'deliveryDate', 'dateOfBirth', 'creationDate'], \n",
    "                      infer_datetime_format=True)"
   ]
  },
  {
   "cell_type": "markdown",
   "metadata": {},
   "source": [
    "# Load benchmark dataset"
   ]
  },
  {
   "cell_type": "code",
   "execution_count": 4,
   "metadata": {
    "collapsed": true
   },
   "outputs": [],
   "source": [
    "test_labels = pd.read_csv('./data/DMC_2014_realclass.txt', sep=';', low_memory=False)"
   ]
  },
  {
   "cell_type": "markdown",
   "metadata": {},
   "source": [
    "# Add missed column in test dataset (for data type compatibility)"
   ]
  },
  {
   "cell_type": "code",
   "execution_count": 5,
   "metadata": {
    "collapsed": true
   },
   "outputs": [],
   "source": [
    "test_df['df_type'] = 'test'\n",
    "train_df['df_type'] = 'train'\n",
    "test_df['returnShipment'] = 0"
   ]
  },
  {
   "cell_type": "markdown",
   "metadata": {},
   "source": [
    "# Join two datasets two datasets together for pre-processing"
   ]
  },
  {
   "cell_type": "code",
   "execution_count": 6,
   "metadata": {
    "collapsed": true
   },
   "outputs": [],
   "source": [
    "joined_df = pd.concat([train_df, test_df])"
   ]
  },
  {
   "cell_type": "code",
   "execution_count": null,
   "metadata": {
    "collapsed": true
   },
   "outputs": [],
   "source": [
    "joined_df"
   ]
  },
  {
   "cell_type": "markdown",
   "metadata": {},
   "source": [
    "# Replace unknown dates with NaN"
   ]
  },
  {
   "cell_type": "code",
   "execution_count": 7,
   "metadata": {
    "collapsed": true
   },
   "outputs": [],
   "source": [
    "joined_df.dateOfBirth = pd.to_datetime(joined_df.dateOfBirth, format='%Y-%m-%d', errors='coerce')\n",
    "joined_df.deliveryDate = pd.to_datetime(joined_df.deliveryDate, format='%Y-%m-%d', errors='coerce')\n",
    "joined_df.creationDate = pd.to_datetime(joined_df.creationDate, format='%Y-%m-%d', errors='coerce')"
   ]
  },
  {
   "cell_type": "markdown",
   "metadata": {},
   "source": [
    "# Rename column names - size is Python/Pandas built-in method"
   ]
  },
  {
   "cell_type": "code",
   "execution_count": 8,
   "metadata": {
    "collapsed": true
   },
   "outputs": [],
   "source": [
    "joined_df.rename(columns={'size': 'item_size'}, inplace=True)"
   ]
  },
  {
   "cell_type": "markdown",
   "metadata": {},
   "source": [
    "# Encoding categorical variables"
   ]
  },
  {
   "cell_type": "markdown",
   "metadata": {},
   "source": [
    "## - Salutation / Gender"
   ]
  },
  {
   "cell_type": "code",
   "execution_count": 9,
   "metadata": {
    "collapsed": true
   },
   "outputs": [],
   "source": [
    "salutation_encoder = preprocessing.LabelEncoder()\n",
    "joined_df.salutation = salutation_encoder.fit_transform(joined_df.salutation)"
   ]
  },
  {
   "cell_type": "markdown",
   "metadata": {},
   "source": [
    "## - Color"
   ]
  },
  {
   "cell_type": "code",
   "execution_count": 10,
   "metadata": {
    "collapsed": true
   },
   "outputs": [],
   "source": [
    "color_encoder = preprocessing.LabelEncoder()\n",
    "joined_df.color = color_encoder.fit_transform(joined_df.color)"
   ]
  },
  {
   "cell_type": "markdown",
   "metadata": {},
   "source": [
    "## - Size"
   ]
  },
  {
   "cell_type": "code",
   "execution_count": 11,
   "metadata": {
    "collapsed": true
   },
   "outputs": [],
   "source": [
    "size_encoder = preprocessing.LabelEncoder()\n",
    "joined_df.item_size = size_encoder.fit_transform(joined_df.item_size)"
   ]
  },
  {
   "cell_type": "markdown",
   "metadata": {},
   "source": [
    "## - State"
   ]
  },
  {
   "cell_type": "code",
   "execution_count": 12,
   "metadata": {
    "collapsed": true
   },
   "outputs": [],
   "source": [
    "state_encoder = preprocessing.LabelEncoder()\n",
    "joined_df.state = state_encoder.fit_transform(joined_df.state)"
   ]
  },
  {
   "cell_type": "markdown",
   "metadata": {},
   "source": [
    "# Adding age column"
   ]
  },
  {
   "cell_type": "code",
   "execution_count": 13,
   "metadata": {
    "collapsed": true
   },
   "outputs": [],
   "source": [
    "joined_df['age_years'] = (joined_df.orderDate - joined_df.dateOfBirth).astype('<m8[Y]')"
   ]
  },
  {
   "cell_type": "markdown",
   "metadata": {},
   "source": [
    "# Adding month number column"
   ]
  },
  {
   "cell_type": "code",
   "execution_count": 14,
   "metadata": {
    "collapsed": true
   },
   "outputs": [],
   "source": [
    "joined_df['order_month'] = joined_df.orderDate.dt.month"
   ]
  },
  {
   "cell_type": "markdown",
   "metadata": {},
   "source": [
    "# Adding day of week column"
   ]
  },
  {
   "cell_type": "code",
   "execution_count": 15,
   "metadata": {
    "collapsed": true
   },
   "outputs": [],
   "source": [
    "joined_df['order_weekday'] = joined_df.orderDate.dt.dayofweek"
   ]
  },
  {
   "cell_type": "markdown",
   "metadata": {},
   "source": [
    "# Add price bin column"
   ]
  },
  {
   "cell_type": "code",
   "execution_count": 16,
   "metadata": {
    "collapsed": true
   },
   "outputs": [],
   "source": [
    "joined_df['price_bin'] = joined_df.price.apply(lambda x: int(round(x/100))*100)"
   ]
  },
  {
   "cell_type": "markdown",
   "metadata": {},
   "source": [
    "# Add column with days between order and delivery"
   ]
  },
  {
   "cell_type": "code",
   "execution_count": null,
   "metadata": {
    "collapsed": true
   },
   "outputs": [],
   "source": [
    "joined_df['delivery_duration'] = (joined_df.orderDate - joined_df.deliveryDate).astype('timedelta64[D]').astype(int)"
   ]
  },
  {
   "cell_type": "markdown",
   "metadata": {},
   "source": [
    "# Add column with shipment return result to test dataframe part"
   ]
  },
  {
   "cell_type": "code",
   "execution_count": 17,
   "metadata": {
    "collapsed": true
   },
   "outputs": [],
   "source": [
    "joined_df.loc[joined_df['df_type'] == 'test', 'returnShipment'] = test_labels['returnShipment']"
   ]
  },
  {
   "cell_type": "markdown",
   "metadata": {},
   "source": [
    "# Fill all N/As"
   ]
  },
  {
   "cell_type": "code",
   "execution_count": 18,
   "metadata": {
    "collapsed": true
   },
   "outputs": [],
   "source": [
    "joined_df.fillna(0, inplace=True)"
   ]
  },
  {
   "cell_type": "code",
   "execution_count": null,
   "metadata": {
    "collapsed": true
   },
   "outputs": [],
   "source": [
    "joined_df"
   ]
  },
  {
   "cell_type": "markdown",
   "metadata": {},
   "source": [
    "# Scaling, training, classifying"
   ]
  },
  {
   "cell_type": "code",
   "execution_count": 19,
   "metadata": {
    "collapsed": false
   },
   "outputs": [
    {
     "name": "stdout",
     "output_type": "stream",
     "text": [
      "Features: color, itemID, manufacturerID, price, salutation, item_size, state, years_age, order_month, order_weekday, price_bin\n",
      "\n",
      "Dataset preprocessed by: No Scaling\n",
      "\tAccuracy of Logistic Regression classifier: 55.683%\n",
      "\tAccuracy of Random Forest classifier: 57.406%\n",
      "\tAccuracy of Decision Tree classifier: 56.869%\n",
      "\tAccuracy of Linear SVC classifier: 51.831%\n",
      "\tAccuracy of AdaBoost Classifier classifier: 56.398%\n",
      "\tAccuracy of 5 Nearest Neighbors classifier: 55.965%\n",
      "\tAccuracy of GradientBoosting Classifier classifier: 56.783%\n",
      "\n",
      "\n",
      "Dataset preprocessed by: Standard Scaler\n",
      "\tAccuracy of Logistic Regression classifier: 55.753%\n",
      "\tAccuracy of Random Forest classifier: 57.382%\n",
      "\tAccuracy of Decision Tree classifier: 56.869%\n",
      "\tAccuracy of Linear SVC classifier: 55.699%\n",
      "\tAccuracy of AdaBoost Classifier classifier: 56.398%\n",
      "\tAccuracy of 5 Nearest Neighbors classifier: 54.014%\n",
      "\tAccuracy of GradientBoosting Classifier classifier: 56.783%\n",
      "\n",
      "\n",
      "Dataset preprocessed by: MinMax Scaler\n",
      "\tAccuracy of Logistic Regression classifier: 55.747%\n",
      "\tAccuracy of Random Forest classifier: 57.442%\n",
      "\tAccuracy of Decision Tree classifier: 56.869%\n",
      "\tAccuracy of Linear SVC classifier: 55.693%\n",
      "\tAccuracy of AdaBoost Classifier classifier: 56.398%\n",
      "\tAccuracy of 5 Nearest Neighbors classifier: 53.580%\n",
      "\tAccuracy of GradientBoosting Classifier classifier: 56.783%\n",
      "\n",
      "\n"
     ]
    }
   ],
   "source": [
    "X = joined_df.drop(['creationDate', 'dateOfBirth', 'orderItemID', 'orderDate', \n",
    "                  'deliveryDate', 'customerID'], axis=1)\n",
    "\n",
    "classifier_names = ['Logistic Regression', 'Random Forest', 'Decision Tree', 'Linear SVC', 'AdaBoost Classifier', \n",
    "               '5 Nearest Neighbors', 'GradientBoosting Classifier']\n",
    "classifier_objects = [LogisticRegression(), RandomForestClassifier(n_estimators=100), \n",
    "                      DecisionTreeClassifier(max_depth=5), \n",
    "                      svm.LinearSVC(), AdaBoostClassifier(), KNeighborsClassifier(5), \n",
    "                      GradientBoostingClassifier(n_estimators=100, learning_rate=1.0, max_depth=1, random_state=0)]\n",
    "\n",
    "scaler_names = ['Without Scaling', 'Standard Scaler', 'MinMax Scaler']\n",
    "scaler_objects = [False, StandardScaler(), MinMaxScaler()]\n",
    "\n",
    "features = list(X.columns)\n",
    "for drop_column in ['df_type', 'returnShipment']:\n",
    "    features.remove(drop_column)\n",
    "print(\"Features: {}\\n\".format(', '.join(features)))\n",
    "\n",
    "for scaler_name, scaler in zip(scaler_names, scaler_objects):\n",
    "    print(\"Dataset preprocessed by: {}\".format(scaler_name))\n",
    "    if scaler:\n",
    "        X[features] = scaler.fit_transform(X[features])\n",
    "\n",
    "    for clf_name, clf in zip(classifier_names, classifier_objects):\n",
    "        X_train = X[X['df_type'] == \"train\"][features]\n",
    "        y_train = X[X['df_type'] == \"train\"]['returnShipment']\n",
    "        X_test = X[X['df_type'] == \"test\"][features]\n",
    "        y_test = X[X['df_type'] == \"test\"]['returnShipment']\n",
    "\n",
    "        clf.fit(X_train, y_train)\n",
    "        clf_score = clf.score(X_test, y_test) * 100\n",
    "        print(\"\\tAccuracy of {0} classifier: {1:.3f}%\".format(clf_name, clf_score))\n",
    "    print(\"\\n\")"
   ]
  },
  {
   "cell_type": "code",
   "execution_count": null,
   "metadata": {
    "collapsed": true
   },
   "outputs": [],
   "source": []
  }
 ],
 "metadata": {
  "kernelspec": {
   "display_name": "Python 2",
   "language": "python",
   "name": "python2"
  },
  "language_info": {
   "codemirror_mode": {
    "name": "ipython",
    "version": 2
   },
   "file_extension": ".py",
   "mimetype": "text/x-python",
   "name": "python",
   "nbconvert_exporter": "python",
   "pygments_lexer": "ipython2",
   "version": "2.7.11"
  }
 },
 "nbformat": 4,
 "nbformat_minor": 0
}
